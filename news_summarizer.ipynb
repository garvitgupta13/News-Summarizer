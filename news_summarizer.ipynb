{
  "cells": [
    {
      "cell_type": "code",
      "execution_count": 8,
      "metadata": {
        "colab": {
          "base_uri": "https://localhost:8080/"
        },
        "id": "k-IYDlZ7enTO",
        "outputId": "73859835-d907-46ef-f376-635eeddfc047"
      },
      "outputs": [
        {
          "output_type": "stream",
          "name": "stdout",
          "text": [
            "Mounted at /content/drive\n"
          ]
        }
      ],
      "source": [
        "from google.colab import drive\n",
        "drive.mount('/content/drive')"
      ]
    },
    {
      "cell_type": "code",
      "source": [
        "! pip install rouge"
      ],
      "metadata": {
        "colab": {
          "base_uri": "https://localhost:8080/"
        },
        "id": "vRPqYn3rK6ro",
        "outputId": "4787c009-374a-447c-9659-d85ac5fa6835"
      },
      "execution_count": 10,
      "outputs": [
        {
          "output_type": "stream",
          "name": "stdout",
          "text": [
            "Collecting rouge\n",
            "  Downloading rouge-1.0.1-py3-none-any.whl (13 kB)\n",
            "Requirement already satisfied: six in /usr/local/lib/python3.7/dist-packages (from rouge) (1.15.0)\n",
            "Installing collected packages: rouge\n",
            "Successfully installed rouge-1.0.1\n"
          ]
        }
      ]
    },
    {
      "cell_type": "code",
      "execution_count": 11,
      "metadata": {
        "colab": {
          "base_uri": "https://localhost:8080/"
        },
        "id": "tsO3Afviq2u3",
        "outputId": "b0dcf472-28d2-48ec-baac-361b9f3dc483"
      },
      "outputs": [
        {
          "output_type": "stream",
          "name": "stdout",
          "text": [
            "[nltk_data] Downloading package stopwords to /root/nltk_data...\n",
            "[nltk_data]   Unzipping corpora/stopwords.zip.\n",
            "[nltk_data] Downloading package punkt to /root/nltk_data...\n",
            "[nltk_data]   Unzipping tokenizers/punkt.zip.\n",
            "[nltk_data] Downloading package wordnet to /root/nltk_data...\n",
            "[nltk_data]   Unzipping corpora/wordnet.zip.\n"
          ]
        },
        {
          "output_type": "execute_result",
          "data": {
            "text/plain": [
              "True"
            ]
          },
          "metadata": {},
          "execution_count": 11
        }
      ],
      "source": [
        "import math\n",
        "import numpy as np\n",
        "import pandas as pd\n",
        "import nltk\n",
        "from nltk.tokenize import sent_tokenize, word_tokenize\n",
        "from numpy.linalg import svd as singular_value_decomposition\n",
        "from nltk.corpus import stopwords\n",
        "from operator import attrgetter\n",
        "from collections import namedtuple\n",
        "from sklearn.metrics.pairwise import cosine_similarity\n",
        "from sklearn.feature_extraction.text import CountVectorizer,TfidfVectorizer\n",
        "from sklearn.preprocessing import normalize\n",
        "from rouge import Rouge\n",
        "import statistics\n",
        "nltk.download('stopwords')\n",
        "nltk.download('punkt')\n",
        "nltk.download('wordnet')"
      ]
    },
    {
      "cell_type": "code",
      "execution_count": 12,
      "metadata": {
        "id": "aUWV_RDWmUbY"
      },
      "outputs": [],
      "source": [
        "#Please enter the path of new_summary.csv file\n",
        "df = pd.read_csv(\"/content/drive/MyDrive/Academics/Sem6/news_summary.csv\",encoding='iso-8859-1')"
      ]
    },
    {
      "cell_type": "code",
      "execution_count": 13,
      "metadata": {
        "colab": {
          "base_uri": "https://localhost:8080/",
          "height": 337
        },
        "id": "Mz9-I9nmmowW",
        "outputId": "6c2c07d6-8071-40a2-8b8b-b8baec0bcfe1"
      },
      "outputs": [
        {
          "output_type": "execute_result",
          "data": {
            "text/plain": [
              "               author                  date  \\\n",
              "0        Chhavi Tyagi  03 Aug 2017,Thursday   \n",
              "1         Daisy Mowke  03 Aug 2017,Thursday   \n",
              "2      Arshiya Chopra  03 Aug 2017,Thursday   \n",
              "3       Sumedha Sehra  03 Aug 2017,Thursday   \n",
              "4  Aarushi Maheshwari  03 Aug 2017,Thursday   \n",
              "\n",
              "                                           headlines  \\\n",
              "0  Daman & Diu revokes mandatory Rakshabandhan in...   \n",
              "1  Malaika slams user who trolled her for 'divorc...   \n",
              "2  'Virgin' now corrected to 'Unmarried' in IGIMS...   \n",
              "3  Aaj aapne pakad liya: LeT man Dujana before be...   \n",
              "4  Hotel staff to get training to spot signs of s...   \n",
              "\n",
              "                                           read_more  \\\n",
              "0  http://www.hindustantimes.com/india-news/raksh...   \n",
              "1  http://www.hindustantimes.com/bollywood/malaik...   \n",
              "2  http://www.hindustantimes.com/patna/bihar-igim...   \n",
              "3  http://indiatoday.intoday.in/story/abu-dujana-...   \n",
              "4  http://indiatoday.intoday.in/story/sex-traffic...   \n",
              "\n",
              "                                                text  \\\n",
              "0  The Administration of Union Territory Daman an...   \n",
              "1  Malaika Arora slammed an Instagram user who tr...   \n",
              "2  The Indira Gandhi Institute of Medical Science...   \n",
              "3  Lashkar-e-Taiba's Kashmir commander Abu Dujana...   \n",
              "4  Hotels in Maharashtra will train their staff t...   \n",
              "\n",
              "                                               ctext  \n",
              "0  The Daman and Diu administration on Wednesday ...  \n",
              "1  From her special numbers to TV?appearances, Bo...  \n",
              "2  The Indira Gandhi Institute of Medical Science...  \n",
              "3  Lashkar-e-Taiba's Kashmir commander Abu Dujana...  \n",
              "4  Hotels in Mumbai and other Indian cities are t...  "
            ],
            "text/html": [
              "\n",
              "  <div id=\"df-b01deb6b-76c2-411f-bf0c-08fb908aa928\">\n",
              "    <div class=\"colab-df-container\">\n",
              "      <div>\n",
              "<style scoped>\n",
              "    .dataframe tbody tr th:only-of-type {\n",
              "        vertical-align: middle;\n",
              "    }\n",
              "\n",
              "    .dataframe tbody tr th {\n",
              "        vertical-align: top;\n",
              "    }\n",
              "\n",
              "    .dataframe thead th {\n",
              "        text-align: right;\n",
              "    }\n",
              "</style>\n",
              "<table border=\"1\" class=\"dataframe\">\n",
              "  <thead>\n",
              "    <tr style=\"text-align: right;\">\n",
              "      <th></th>\n",
              "      <th>author</th>\n",
              "      <th>date</th>\n",
              "      <th>headlines</th>\n",
              "      <th>read_more</th>\n",
              "      <th>text</th>\n",
              "      <th>ctext</th>\n",
              "    </tr>\n",
              "  </thead>\n",
              "  <tbody>\n",
              "    <tr>\n",
              "      <th>0</th>\n",
              "      <td>Chhavi Tyagi</td>\n",
              "      <td>03 Aug 2017,Thursday</td>\n",
              "      <td>Daman &amp; Diu revokes mandatory Rakshabandhan in...</td>\n",
              "      <td>http://www.hindustantimes.com/india-news/raksh...</td>\n",
              "      <td>The Administration of Union Territory Daman an...</td>\n",
              "      <td>The Daman and Diu administration on Wednesday ...</td>\n",
              "    </tr>\n",
              "    <tr>\n",
              "      <th>1</th>\n",
              "      <td>Daisy Mowke</td>\n",
              "      <td>03 Aug 2017,Thursday</td>\n",
              "      <td>Malaika slams user who trolled her for 'divorc...</td>\n",
              "      <td>http://www.hindustantimes.com/bollywood/malaik...</td>\n",
              "      <td>Malaika Arora slammed an Instagram user who tr...</td>\n",
              "      <td>From her special numbers to TV?appearances, Bo...</td>\n",
              "    </tr>\n",
              "    <tr>\n",
              "      <th>2</th>\n",
              "      <td>Arshiya Chopra</td>\n",
              "      <td>03 Aug 2017,Thursday</td>\n",
              "      <td>'Virgin' now corrected to 'Unmarried' in IGIMS...</td>\n",
              "      <td>http://www.hindustantimes.com/patna/bihar-igim...</td>\n",
              "      <td>The Indira Gandhi Institute of Medical Science...</td>\n",
              "      <td>The Indira Gandhi Institute of Medical Science...</td>\n",
              "    </tr>\n",
              "    <tr>\n",
              "      <th>3</th>\n",
              "      <td>Sumedha Sehra</td>\n",
              "      <td>03 Aug 2017,Thursday</td>\n",
              "      <td>Aaj aapne pakad liya: LeT man Dujana before be...</td>\n",
              "      <td>http://indiatoday.intoday.in/story/abu-dujana-...</td>\n",
              "      <td>Lashkar-e-Taiba's Kashmir commander Abu Dujana...</td>\n",
              "      <td>Lashkar-e-Taiba's Kashmir commander Abu Dujana...</td>\n",
              "    </tr>\n",
              "    <tr>\n",
              "      <th>4</th>\n",
              "      <td>Aarushi Maheshwari</td>\n",
              "      <td>03 Aug 2017,Thursday</td>\n",
              "      <td>Hotel staff to get training to spot signs of s...</td>\n",
              "      <td>http://indiatoday.intoday.in/story/sex-traffic...</td>\n",
              "      <td>Hotels in Maharashtra will train their staff t...</td>\n",
              "      <td>Hotels in Mumbai and other Indian cities are t...</td>\n",
              "    </tr>\n",
              "  </tbody>\n",
              "</table>\n",
              "</div>\n",
              "      <button class=\"colab-df-convert\" onclick=\"convertToInteractive('df-b01deb6b-76c2-411f-bf0c-08fb908aa928')\"\n",
              "              title=\"Convert this dataframe to an interactive table.\"\n",
              "              style=\"display:none;\">\n",
              "        \n",
              "  <svg xmlns=\"http://www.w3.org/2000/svg\" height=\"24px\"viewBox=\"0 0 24 24\"\n",
              "       width=\"24px\">\n",
              "    <path d=\"M0 0h24v24H0V0z\" fill=\"none\"/>\n",
              "    <path d=\"M18.56 5.44l.94 2.06.94-2.06 2.06-.94-2.06-.94-.94-2.06-.94 2.06-2.06.94zm-11 1L8.5 8.5l.94-2.06 2.06-.94-2.06-.94L8.5 2.5l-.94 2.06-2.06.94zm10 10l.94 2.06.94-2.06 2.06-.94-2.06-.94-.94-2.06-.94 2.06-2.06.94z\"/><path d=\"M17.41 7.96l-1.37-1.37c-.4-.4-.92-.59-1.43-.59-.52 0-1.04.2-1.43.59L10.3 9.45l-7.72 7.72c-.78.78-.78 2.05 0 2.83L4 21.41c.39.39.9.59 1.41.59.51 0 1.02-.2 1.41-.59l7.78-7.78 2.81-2.81c.8-.78.8-2.07 0-2.86zM5.41 20L4 18.59l7.72-7.72 1.47 1.35L5.41 20z\"/>\n",
              "  </svg>\n",
              "      </button>\n",
              "      \n",
              "  <style>\n",
              "    .colab-df-container {\n",
              "      display:flex;\n",
              "      flex-wrap:wrap;\n",
              "      gap: 12px;\n",
              "    }\n",
              "\n",
              "    .colab-df-convert {\n",
              "      background-color: #E8F0FE;\n",
              "      border: none;\n",
              "      border-radius: 50%;\n",
              "      cursor: pointer;\n",
              "      display: none;\n",
              "      fill: #1967D2;\n",
              "      height: 32px;\n",
              "      padding: 0 0 0 0;\n",
              "      width: 32px;\n",
              "    }\n",
              "\n",
              "    .colab-df-convert:hover {\n",
              "      background-color: #E2EBFA;\n",
              "      box-shadow: 0px 1px 2px rgba(60, 64, 67, 0.3), 0px 1px 3px 1px rgba(60, 64, 67, 0.15);\n",
              "      fill: #174EA6;\n",
              "    }\n",
              "\n",
              "    [theme=dark] .colab-df-convert {\n",
              "      background-color: #3B4455;\n",
              "      fill: #D2E3FC;\n",
              "    }\n",
              "\n",
              "    [theme=dark] .colab-df-convert:hover {\n",
              "      background-color: #434B5C;\n",
              "      box-shadow: 0px 1px 3px 1px rgba(0, 0, 0, 0.15);\n",
              "      filter: drop-shadow(0px 1px 2px rgba(0, 0, 0, 0.3));\n",
              "      fill: #FFFFFF;\n",
              "    }\n",
              "  </style>\n",
              "\n",
              "      <script>\n",
              "        const buttonEl =\n",
              "          document.querySelector('#df-b01deb6b-76c2-411f-bf0c-08fb908aa928 button.colab-df-convert');\n",
              "        buttonEl.style.display =\n",
              "          google.colab.kernel.accessAllowed ? 'block' : 'none';\n",
              "\n",
              "        async function convertToInteractive(key) {\n",
              "          const element = document.querySelector('#df-b01deb6b-76c2-411f-bf0c-08fb908aa928');\n",
              "          const dataTable =\n",
              "            await google.colab.kernel.invokeFunction('convertToInteractive',\n",
              "                                                     [key], {});\n",
              "          if (!dataTable) return;\n",
              "\n",
              "          const docLinkHtml = 'Like what you see? Visit the ' +\n",
              "            '<a target=\"_blank\" href=https://colab.research.google.com/notebooks/data_table.ipynb>data table notebook</a>'\n",
              "            + ' to learn more about interactive tables.';\n",
              "          element.innerHTML = '';\n",
              "          dataTable['output_type'] = 'display_data';\n",
              "          await google.colab.output.renderOutput(dataTable, element);\n",
              "          const docLink = document.createElement('div');\n",
              "          docLink.innerHTML = docLinkHtml;\n",
              "          element.appendChild(docLink);\n",
              "        }\n",
              "      </script>\n",
              "    </div>\n",
              "  </div>\n",
              "  "
            ]
          },
          "metadata": {},
          "execution_count": 13
        }
      ],
      "source": [
        "df.head()"
      ]
    },
    {
      "cell_type": "code",
      "execution_count": 14,
      "metadata": {
        "id": "qiRzyzgYpWzf"
      },
      "outputs": [],
      "source": [
        "df['article'] = df['ctext']\n",
        "df['summary'] = df['text']"
      ]
    },
    {
      "cell_type": "markdown",
      "source": [
        "Remove extra features like author, date, article link which does not affect news summary\n",
        "\n",
        "Drop the null values and reset index"
      ],
      "metadata": {
        "id": "rYK9URqPDGct"
      }
    },
    {
      "cell_type": "code",
      "execution_count": 15,
      "metadata": {
        "id": "40ZtazMxnZj3"
      },
      "outputs": [],
      "source": [
        "df.drop(['author','date','read_more','text','ctext'],axis=1,inplace=True)\n",
        "df.dropna(inplace=True)\n",
        "df.reset_index(inplace = True)"
      ]
    },
    {
      "cell_type": "code",
      "execution_count": 16,
      "metadata": {
        "id": "GiOOg04XthAp"
      },
      "outputs": [],
      "source": [
        "w_tokenizer = nltk.tokenize.WhitespaceTokenizer()\n",
        "lemmatizer = nltk.stem.WordNetLemmatizer()"
      ]
    },
    {
      "cell_type": "code",
      "execution_count": 17,
      "metadata": {
        "id": "1sevIBiBtlEG"
      },
      "outputs": [],
      "source": [
        "def lemmatize_tokenize_text(text):\n",
        "    return [lemmatizer.lemmatize(w) for w in w_tokenizer.tokenize(text)]\n",
        "\n",
        "def join_words(lst):\n",
        "  return ' '.join(lst)"
      ]
    },
    {
      "cell_type": "markdown",
      "source": [
        "Performing stemming and space tokenization to clean the article and summary"
      ],
      "metadata": {
        "id": "dJ2nT101Dm8H"
      }
    },
    {
      "cell_type": "code",
      "execution_count": 18,
      "metadata": {
        "id": "q_qRxNMgtnya"
      },
      "outputs": [],
      "source": [
        "df['article'] = df['article'].apply(lemmatize_tokenize_text)\n",
        "df['summary'] = df['summary'].apply(lemmatize_tokenize_text)"
      ]
    },
    {
      "cell_type": "code",
      "execution_count": 19,
      "metadata": {
        "id": "F01GMl9kvc-D"
      },
      "outputs": [],
      "source": [
        "df['article'] = df['article'].apply(join_words)\n",
        "df['summary'] = df['summary'].apply(join_words)"
      ]
    },
    {
      "cell_type": "code",
      "execution_count": 20,
      "metadata": {
        "colab": {
          "base_uri": "https://localhost:8080/"
        },
        "id": "RDVL69z0ps6X",
        "outputId": "a19f5d39-e160-4eb4-818e-042503d9286e"
      },
      "outputs": [
        {
          "output_type": "stream",
          "name": "stdout",
          "text": [
            "<class 'pandas.core.frame.DataFrame'>\n",
            "RangeIndex: 4396 entries, 0 to 4395\n",
            "Data columns (total 4 columns):\n",
            " #   Column     Non-Null Count  Dtype \n",
            "---  ------     --------------  ----- \n",
            " 0   index      4396 non-null   int64 \n",
            " 1   headlines  4396 non-null   object\n",
            " 2   article    4396 non-null   object\n",
            " 3   summary    4396 non-null   object\n",
            "dtypes: int64(1), object(3)\n",
            "memory usage: 137.5+ KB\n"
          ]
        }
      ],
      "source": [
        "df.info()"
      ]
    },
    {
      "cell_type": "code",
      "execution_count": 21,
      "metadata": {
        "colab": {
          "base_uri": "https://localhost:8080/",
          "height": 140
        },
        "id": "UW8SLwompvkU",
        "outputId": "de17b514-2b5e-4a48-a2ef-582c04ca0207"
      },
      "outputs": [
        {
          "output_type": "execute_result",
          "data": {
            "text/plain": [
              "'The Daman and Diu administration on Wednesday withdrew a circular that asked woman staff to tie rakhis on male colleague after the order triggered a backlash from employee and wa ripped apart on social media.The union territory?s administration wa forced to retreat within 24 hour of issuing the circular that made it compulsory for it staff to celebrate Rakshabandhan at workplace.?It ha been decided to celebrate the festival of Rakshabandhan on August 7. In this connection, all offices/ department shall remain open and celebrate the festival collectively at a suitable time wherein all the lady staff shall tie rakhis to their colleagues,? the order, issued on August 1 by Gurpreet Singh, deputy secretary (personnel), had said.To ensure that no one skipped office, an attendance report wa to be sent to the government the next evening.The two notification ? one mandating the celebration of Rakshabandhan (left) and the other withdrawing the mandate (right) ? were issued by the Daman and Diu administration a day apart. The circular wa withdrawn through a one-line order issued late in the evening by the UT?s department of personnel and administrative reforms.?The circular is ridiculous. There are sensitivity involved. How can the government dictate who I should tie rakhi to? We should maintain the professionalism of a workplace? an official told Hindustan Times earlier in the day. She refused to be identified.The notice wa issued on Daman and Diu administrator and former Gujarat home minister Praful Kodabhai Patel?s direction, source said.Rakshabandhan, a celebration of the bond between brother and sisters, is one of several Hindu festivity and ritual that are no longer confined of private, family affair but have become tool to push politic al ideologies.In 2014, the year BJP stormed to power at the Centre, Rashtriya Swayamsevak Sangh (RSS) chief Mohan Bhagwat said the festival had ?national significance? and should be celebrated widely ?to protect Hindu culture and live by the value enshrined in it?. The RSS is the ideological parent of the ruling BJP.Last year, woman minister in the Modi government went to the border area to celebrate the festival with soldiers. A year before, all cabinet minister were asked to go to their constituency for the festival.'"
            ],
            "application/vnd.google.colaboratory.intrinsic+json": {
              "type": "string"
            }
          },
          "metadata": {},
          "execution_count": 21
        }
      ],
      "source": [
        "df['article'][0]"
      ]
    },
    {
      "cell_type": "code",
      "execution_count": 22,
      "metadata": {
        "colab": {
          "base_uri": "https://localhost:8080/",
          "height": 70
        },
        "id": "2DcxZaRRpzTV",
        "outputId": "56524ce8-869a-46a9-d171-8d960af9b573"
      },
      "outputs": [
        {
          "output_type": "execute_result",
          "data": {
            "text/plain": [
              "'The Administration of Union Territory Daman and Diu ha revoked it order that made it compulsory for woman to tie rakhis to their male colleague on the occasion of Rakshabandhan on August 7. The administration wa forced to withdraw the decision within 24 hour of issuing the circular after it received flak from employee and wa slammed on social media.'"
            ],
            "application/vnd.google.colaboratory.intrinsic+json": {
              "type": "string"
            }
          },
          "metadata": {},
          "execution_count": 22
        }
      ],
      "source": [
        "df['summary'][0]"
      ]
    },
    {
      "cell_type": "code",
      "execution_count": 23,
      "metadata": {
        "id": "InYef5hRAJqL"
      },
      "outputs": [],
      "source": [
        "stop_words = list(stopwords.words('english'))\n",
        "MIN_DIMENSIONS = 3\n",
        "REDUCTION_RATIO = 1/5\n",
        "SentenceInfo = namedtuple(\"SentenceInfo\", (\"sentence\", \"order\", \"rating\",))\n"
      ]
    },
    {
      "cell_type": "code",
      "execution_count": 24,
      "metadata": {
        "id": "aZ_Q2xk19qVu"
      },
      "outputs": [],
      "source": [
        "#Creating word dictionary, where key is the word and value is the row index\n",
        "#We also remove the stop words before adding them in dictionary and change everyone to lowercase\n",
        "def to_lower(word):\n",
        "  return word.lower()\n",
        "\n",
        "def create_dictionary(article):\n",
        "    words = word_tokenize(article)\n",
        "    words = tuple(words)\n",
        "    words = map(to_lower,words)\n",
        "    unique_words = frozenset(w for w in words if w not in stop_words)\n",
        "\n",
        "    return dict((w, i) for i, w in enumerate(unique_words))"
      ]
    },
    {
      "cell_type": "code",
      "execution_count": 25,
      "metadata": {
        "id": "7Y0BDTk2DN5H"
      },
      "outputs": [],
      "source": [
        "#Create the word document matrix using text article and its corresponding dictionary\n",
        "#Sentance tokenize the article and then store the frequency(stored in dictionary) for words corresponding to each sentence\n",
        "def create_matrix(article, dictionary):\n",
        "    sentences = sent_tokenize(article)\n",
        "    words_count = len(dictionary)\n",
        "    sentences_count = len(sentences)\n",
        "    matrix = np.zeros((words_count, sentences_count))\n",
        "    for col, sentence in enumerate(sentences):\n",
        "        words = word_tokenize(sentence)\n",
        "        for word in words:\n",
        "            # only valid words is counted (not stop-words, ...)\n",
        "            if word in dictionary:\n",
        "                row = dictionary[word]\n",
        "                matrix[row, col] += 1\n",
        "\n",
        "    return matrix \n"
      ]
    },
    {
      "cell_type": "code",
      "execution_count": 26,
      "metadata": {
        "id": "QCxwfyBGEYgC"
      },
      "outputs": [],
      "source": [
        "#Normalize the matrix by dividing each column with its max value\n",
        "def compute_term_freq(matrix):\n",
        "    smooth=0.4\n",
        "    max_word_frequencies = np.max(matrix, axis=0)\n",
        "    rows, cols = matrix.shape\n",
        "    for row in range(rows):\n",
        "        for col in range(cols):\n",
        "            max_word_frequency = max_word_frequencies[col]\n",
        "            if max_word_frequency != 0:\n",
        "                frequency = matrix[row, col]/max_word_frequency\n",
        "                matrix[row, col] = smooth + (1.0 - smooth)*frequency\n",
        "\n",
        "    return matrix"
      ]
    },
    {
      "cell_type": "code",
      "execution_count": 27,
      "metadata": {
        "id": "Fld_HT9FG7kd"
      },
      "outputs": [],
      "source": [
        "#Perform truncated SVD by extracting the top topics and then multiplying them to get the ranks\n",
        "#We extract the top columns(columns having highest values) and multiply them with v_matrix\n",
        "def compute_rank(sigma, v_matrix):\n",
        "    dimensions = max(MIN_DIMENSIONS,int(len(sigma)*REDUCTION_RATIO))\n",
        "    powered_sigma = tuple(s**2 if i < dimensions else 0.0\n",
        "        for i, s in enumerate(sigma))\n",
        "\n",
        "    ranks = []\n",
        "    \n",
        "    for column_vector in v_matrix.T:\n",
        "        rank = sum(s*v**2 for s, v in zip(powered_sigma, column_vector))\n",
        "        ranks.append(math.sqrt(rank))\n",
        "\n",
        "    return ranks"
      ]
    },
    {
      "cell_type": "code",
      "execution_count": 28,
      "metadata": {
        "id": "1cw4DharH-hY"
      },
      "outputs": [],
      "source": [
        "class ItemsCount(object):\n",
        "    def __init__(self, value):\n",
        "        self._value = value\n",
        "\n",
        "    def __call__(self, sequence):\n",
        "        if isinstance(self._value, (bytes, str,)):\n",
        "            if self._value.endswith(\"%\"):\n",
        "                total_count = len(sequence)\n",
        "                percentage = int(self._value[:-1])\n",
        "                # at least one sentence should be chosen\n",
        "                count = max(1, total_count*percentage // 100)\n",
        "                return sequence[:count]\n",
        "            else:\n",
        "                return sequence[:int(self._value)]\n",
        "        elif isinstance(self._value, (int, float)):\n",
        "            return sequence[:int(self._value)]\n",
        "\n",
        "    def __repr__(self):\n",
        "        return to_string(\"<ItemsCount: %r>\" % self._value)"
      ]
    },
    {
      "cell_type": "code",
      "execution_count": 29,
      "metadata": {
        "id": "mDHTK0keK7_S"
      },
      "outputs": [],
      "source": [
        "#Returns the top sentences on the basis of their rating\n",
        "def get_top_sentence(sentences, count, rating, *args, **kwargs):\n",
        "    rate = rating\n",
        "    if isinstance(rating, dict):\n",
        "        rate = lambda s: rating[s]\n",
        "    \n",
        "    infos = (SentenceInfo(s, o, rate(s, *args, **kwargs))\n",
        "        for o, s in enumerate(sentences))\n",
        "    # sort sentences by rating in descending order\n",
        "    infos = sorted(infos, key=attrgetter(\"rating\"), reverse=True)\n",
        "    # get `count` first best rated sentences\n",
        "    if not isinstance(count, ItemsCount):\n",
        "        count = ItemsCount(count)\n",
        "    infos = count(infos)\n",
        "    # sort sentences by their order in document\n",
        "    infos = sorted(infos, key=attrgetter(\"order\"))\n",
        "\n",
        "    return tuple(i.sentence for i in infos)"
      ]
    },
    {
      "cell_type": "code",
      "execution_count": 30,
      "metadata": {
        "id": "ugwUyzC8p2fX"
      },
      "outputs": [],
      "source": [
        "#Perform LSA Summarization\n",
        "def text_summarizer(article,summary_len=1):\n",
        "  article = str(article)\n",
        "  stop_words = list(stopwords.words('english'))\n",
        "  dictionary = create_dictionary(article)\n",
        "  sentences = sent_tokenize(article)\n",
        "  matrix = create_matrix(article,dictionary)\n",
        "  matrix = compute_term_freq(matrix)\n",
        "  u, sigma, v = singular_value_decomposition(matrix, full_matrices=False)\n",
        "  ranks = iter(compute_rank(sigma, v))\n",
        "  summarized_sentance = get_top_sentence(sentences,summary_len,lambda s: next(ranks))\n",
        "  return ' '.join(summarized_sentance)"
      ]
    },
    {
      "cell_type": "markdown",
      "source": [
        "We have assumed the best predicted summarized sentence(summary of length 1) to be our predicted_headline.\n",
        "\n",
        "We have applied text summarization on article to get predicted_summary of length 3."
      ],
      "metadata": {
        "id": "LYMHVZgJIwzM"
      }
    },
    {
      "cell_type": "code",
      "execution_count": 31,
      "metadata": {
        "id": "KdNzaX_MLZik"
      },
      "outputs": [],
      "source": [
        "df['predicted_headline'] = df['article'].apply(text_summarizer)"
      ]
    },
    {
      "cell_type": "code",
      "execution_count": 32,
      "metadata": {
        "id": "IFlcH-CMVM3e"
      },
      "outputs": [],
      "source": [
        "df['predicted_summary'] = df['article'].apply(lambda x : text_summarizer(x,3))"
      ]
    },
    {
      "cell_type": "code",
      "execution_count": 33,
      "metadata": {
        "colab": {
          "base_uri": "https://localhost:8080/",
          "height": 337
        },
        "id": "pF-Lwzs-ZYT6",
        "outputId": "bdaa9692-8480-4ddc-96ed-e9a5c31e40ba"
      },
      "outputs": [
        {
          "output_type": "execute_result",
          "data": {
            "text/plain": [
              "      index                                          headlines  \\\n",
              "4391   4509  Rasna seeking ?250 cr revenue from snack categ...   \n",
              "4392   4510  Sachin attends Rajya Sabha after questions on ...   \n",
              "4393   4511  Shouldn't rob their childhood: Aamir on kids r...   \n",
              "4394   4512  Asha Bhosle gets ?53,000 power bill for unused...   \n",
              "4395   4513  More than half of India's languages may die in...   \n",
              "\n",
              "                                                article  \\\n",
              "4391  Mumbai, Feb 23 (PTI) Fruit juice concentrate m...   \n",
              "4392  Former cricketer Sachin Tendulkar wa spotted i...   \n",
              "4393  Aamir Khan, whose last film Dangal told the st...   \n",
              "4394  Maharahstra Power Minister Chandrashekhar Bawa...   \n",
              "4395  More than half of the language spoken by India...   \n",
              "\n",
              "                                                summary  \\\n",
              "4391  Fruit juice concentrate maker Rasna is eyeing ...   \n",
              "4392  Former Indian cricketer Sachin Tendulkar atten...   \n",
              "4393  Aamir Khan, while talking about reality show o...   \n",
              "4394  The Maharashtra government ha initiated an inq...   \n",
              "4395  At least 400 language or more than half langua...   \n",
              "\n",
              "                                     predicted_headline  \\\n",
              "4391  Mumbai, Feb 23 (PTI) Fruit juice concentrate m...   \n",
              "4392  Boxer Mary Kom too wa present in the House tod...   \n",
              "4393  But it cut both way (referring to kid getting ...   \n",
              "4394  The textile industry in hub like Bhiwandi, Ich...   \n",
              "4395  Similarly there are several old language which...   \n",
              "\n",
              "                                      predicted_summary  \n",
              "4391  Mumbai, Feb 23 (PTI) Fruit juice concentrate m...  \n",
              "4392  Former cricketer Sachin Tendulkar wa spotted i...  \n",
              "4393  When our kid were younger, we used to show the...  \n",
              "4394  Maharahstra Power Minister Chandrashekhar Bawa...  \n",
              "4395  More than half of the language spoken by India...  "
            ],
            "text/html": [
              "\n",
              "  <div id=\"df-2ec92586-5c8b-48bb-9768-21bec21f5bd7\">\n",
              "    <div class=\"colab-df-container\">\n",
              "      <div>\n",
              "<style scoped>\n",
              "    .dataframe tbody tr th:only-of-type {\n",
              "        vertical-align: middle;\n",
              "    }\n",
              "\n",
              "    .dataframe tbody tr th {\n",
              "        vertical-align: top;\n",
              "    }\n",
              "\n",
              "    .dataframe thead th {\n",
              "        text-align: right;\n",
              "    }\n",
              "</style>\n",
              "<table border=\"1\" class=\"dataframe\">\n",
              "  <thead>\n",
              "    <tr style=\"text-align: right;\">\n",
              "      <th></th>\n",
              "      <th>index</th>\n",
              "      <th>headlines</th>\n",
              "      <th>article</th>\n",
              "      <th>summary</th>\n",
              "      <th>predicted_headline</th>\n",
              "      <th>predicted_summary</th>\n",
              "    </tr>\n",
              "  </thead>\n",
              "  <tbody>\n",
              "    <tr>\n",
              "      <th>4391</th>\n",
              "      <td>4509</td>\n",
              "      <td>Rasna seeking ?250 cr revenue from snack categ...</td>\n",
              "      <td>Mumbai, Feb 23 (PTI) Fruit juice concentrate m...</td>\n",
              "      <td>Fruit juice concentrate maker Rasna is eyeing ...</td>\n",
              "      <td>Mumbai, Feb 23 (PTI) Fruit juice concentrate m...</td>\n",
              "      <td>Mumbai, Feb 23 (PTI) Fruit juice concentrate m...</td>\n",
              "    </tr>\n",
              "    <tr>\n",
              "      <th>4392</th>\n",
              "      <td>4510</td>\n",
              "      <td>Sachin attends Rajya Sabha after questions on ...</td>\n",
              "      <td>Former cricketer Sachin Tendulkar wa spotted i...</td>\n",
              "      <td>Former Indian cricketer Sachin Tendulkar atten...</td>\n",
              "      <td>Boxer Mary Kom too wa present in the House tod...</td>\n",
              "      <td>Former cricketer Sachin Tendulkar wa spotted i...</td>\n",
              "    </tr>\n",
              "    <tr>\n",
              "      <th>4393</th>\n",
              "      <td>4511</td>\n",
              "      <td>Shouldn't rob their childhood: Aamir on kids r...</td>\n",
              "      <td>Aamir Khan, whose last film Dangal told the st...</td>\n",
              "      <td>Aamir Khan, while talking about reality show o...</td>\n",
              "      <td>But it cut both way (referring to kid getting ...</td>\n",
              "      <td>When our kid were younger, we used to show the...</td>\n",
              "    </tr>\n",
              "    <tr>\n",
              "      <th>4394</th>\n",
              "      <td>4512</td>\n",
              "      <td>Asha Bhosle gets ?53,000 power bill for unused...</td>\n",
              "      <td>Maharahstra Power Minister Chandrashekhar Bawa...</td>\n",
              "      <td>The Maharashtra government ha initiated an inq...</td>\n",
              "      <td>The textile industry in hub like Bhiwandi, Ich...</td>\n",
              "      <td>Maharahstra Power Minister Chandrashekhar Bawa...</td>\n",
              "    </tr>\n",
              "    <tr>\n",
              "      <th>4395</th>\n",
              "      <td>4513</td>\n",
              "      <td>More than half of India's languages may die in...</td>\n",
              "      <td>More than half of the language spoken by India...</td>\n",
              "      <td>At least 400 language or more than half langua...</td>\n",
              "      <td>Similarly there are several old language which...</td>\n",
              "      <td>More than half of the language spoken by India...</td>\n",
              "    </tr>\n",
              "  </tbody>\n",
              "</table>\n",
              "</div>\n",
              "      <button class=\"colab-df-convert\" onclick=\"convertToInteractive('df-2ec92586-5c8b-48bb-9768-21bec21f5bd7')\"\n",
              "              title=\"Convert this dataframe to an interactive table.\"\n",
              "              style=\"display:none;\">\n",
              "        \n",
              "  <svg xmlns=\"http://www.w3.org/2000/svg\" height=\"24px\"viewBox=\"0 0 24 24\"\n",
              "       width=\"24px\">\n",
              "    <path d=\"M0 0h24v24H0V0z\" fill=\"none\"/>\n",
              "    <path d=\"M18.56 5.44l.94 2.06.94-2.06 2.06-.94-2.06-.94-.94-2.06-.94 2.06-2.06.94zm-11 1L8.5 8.5l.94-2.06 2.06-.94-2.06-.94L8.5 2.5l-.94 2.06-2.06.94zm10 10l.94 2.06.94-2.06 2.06-.94-2.06-.94-.94-2.06-.94 2.06-2.06.94z\"/><path d=\"M17.41 7.96l-1.37-1.37c-.4-.4-.92-.59-1.43-.59-.52 0-1.04.2-1.43.59L10.3 9.45l-7.72 7.72c-.78.78-.78 2.05 0 2.83L4 21.41c.39.39.9.59 1.41.59.51 0 1.02-.2 1.41-.59l7.78-7.78 2.81-2.81c.8-.78.8-2.07 0-2.86zM5.41 20L4 18.59l7.72-7.72 1.47 1.35L5.41 20z\"/>\n",
              "  </svg>\n",
              "      </button>\n",
              "      \n",
              "  <style>\n",
              "    .colab-df-container {\n",
              "      display:flex;\n",
              "      flex-wrap:wrap;\n",
              "      gap: 12px;\n",
              "    }\n",
              "\n",
              "    .colab-df-convert {\n",
              "      background-color: #E8F0FE;\n",
              "      border: none;\n",
              "      border-radius: 50%;\n",
              "      cursor: pointer;\n",
              "      display: none;\n",
              "      fill: #1967D2;\n",
              "      height: 32px;\n",
              "      padding: 0 0 0 0;\n",
              "      width: 32px;\n",
              "    }\n",
              "\n",
              "    .colab-df-convert:hover {\n",
              "      background-color: #E2EBFA;\n",
              "      box-shadow: 0px 1px 2px rgba(60, 64, 67, 0.3), 0px 1px 3px 1px rgba(60, 64, 67, 0.15);\n",
              "      fill: #174EA6;\n",
              "    }\n",
              "\n",
              "    [theme=dark] .colab-df-convert {\n",
              "      background-color: #3B4455;\n",
              "      fill: #D2E3FC;\n",
              "    }\n",
              "\n",
              "    [theme=dark] .colab-df-convert:hover {\n",
              "      background-color: #434B5C;\n",
              "      box-shadow: 0px 1px 3px 1px rgba(0, 0, 0, 0.15);\n",
              "      filter: drop-shadow(0px 1px 2px rgba(0, 0, 0, 0.3));\n",
              "      fill: #FFFFFF;\n",
              "    }\n",
              "  </style>\n",
              "\n",
              "      <script>\n",
              "        const buttonEl =\n",
              "          document.querySelector('#df-2ec92586-5c8b-48bb-9768-21bec21f5bd7 button.colab-df-convert');\n",
              "        buttonEl.style.display =\n",
              "          google.colab.kernel.accessAllowed ? 'block' : 'none';\n",
              "\n",
              "        async function convertToInteractive(key) {\n",
              "          const element = document.querySelector('#df-2ec92586-5c8b-48bb-9768-21bec21f5bd7');\n",
              "          const dataTable =\n",
              "            await google.colab.kernel.invokeFunction('convertToInteractive',\n",
              "                                                     [key], {});\n",
              "          if (!dataTable) return;\n",
              "\n",
              "          const docLinkHtml = 'Like what you see? Visit the ' +\n",
              "            '<a target=\"_blank\" href=https://colab.research.google.com/notebooks/data_table.ipynb>data table notebook</a>'\n",
              "            + ' to learn more about interactive tables.';\n",
              "          element.innerHTML = '';\n",
              "          dataTable['output_type'] = 'display_data';\n",
              "          await google.colab.output.renderOutput(dataTable, element);\n",
              "          const docLink = document.createElement('div');\n",
              "          docLink.innerHTML = docLinkHtml;\n",
              "          element.appendChild(docLink);\n",
              "        }\n",
              "      </script>\n",
              "    </div>\n",
              "  </div>\n",
              "  "
            ]
          },
          "metadata": {},
          "execution_count": 33
        }
      ],
      "source": [
        "df.tail()"
      ]
    },
    {
      "cell_type": "code",
      "execution_count": 34,
      "metadata": {
        "colab": {
          "base_uri": "https://localhost:8080/"
        },
        "id": "t_f8sCdSZwrK",
        "outputId": "34e3c21b-414f-4aad-f693-b4bc66b3b302"
      },
      "outputs": [
        {
          "output_type": "stream",
          "name": "stdout",
          "text": [
            "<class 'pandas.core.frame.DataFrame'>\n",
            "RangeIndex: 4396 entries, 0 to 4395\n",
            "Data columns (total 6 columns):\n",
            " #   Column              Non-Null Count  Dtype \n",
            "---  ------              --------------  ----- \n",
            " 0   index               4396 non-null   int64 \n",
            " 1   headlines           4396 non-null   object\n",
            " 2   article             4396 non-null   object\n",
            " 3   summary             4396 non-null   object\n",
            " 4   predicted_headline  4396 non-null   object\n",
            " 5   predicted_summary   4396 non-null   object\n",
            "dtypes: int64(1), object(5)\n",
            "memory usage: 206.2+ KB\n"
          ]
        }
      ],
      "source": [
        "df.info()"
      ]
    },
    {
      "cell_type": "code",
      "execution_count": 35,
      "metadata": {
        "id": "kL1a5O9h3v9n"
      },
      "outputs": [],
      "source": [
        "#This function calculates the SVD similarity between 2 texts.\n",
        "#We first create matrix of both the texts and then factorize them\n",
        "#Then the u matrix is normalized and its 1st column is multiplied to get the topic similarity between 2 different texts\n",
        "def svd_similarity(text1,text2):\n",
        "  text1 = str(text1)\n",
        "  dictionary = create_dictionary(text1)\n",
        "  sentences = sent_tokenize(text1)\n",
        "  matrix = create_matrix(text1,dictionary)\n",
        "  matrix = compute_term_freq(matrix)\n",
        "  u1, sigma1, v1 = singular_value_decomposition(matrix, full_matrices=False) \n",
        "  text2 = str(text2)\n",
        "  dictionary = create_dictionary(text2)\n",
        "  sentences = sent_tokenize(text2)\n",
        "  matrix = create_matrix(text1,dictionary)\n",
        "  matrix = compute_term_freq(matrix)\n",
        "  u2, sigma2, v2 = singular_value_decomposition(matrix, full_matrices=False) \n",
        "  u1 = u1[:,0].reshape((u1.shape[0],1))\n",
        "  u2 = u2[:,0].reshape((u2.shape[0],1))\n",
        "  normalized_u1 = normalize(u1, axis=0).ravel()\n",
        "  normalized_u2 = normalize(u2, axis=0).ravel()\n",
        "  similarity = 0\n",
        "  for i in range(min(len(normalized_u1),len(normalized_u2))):\n",
        "    similarity += (normalized_u1[i]*normalized_u2[i])\n",
        "  return similarity"
      ]
    },
    {
      "cell_type": "code",
      "execution_count": 36,
      "metadata": {
        "id": "WLoHFU3dXn7B"
      },
      "outputs": [],
      "source": [
        "#We calculated cosine similarity between 2 different texts\n",
        "def text_similarity(text1, text2):\n",
        "  count_vector = CountVectorizer()\n",
        "  corpus = [text1,text2]\n",
        "  X_train_counts = count_vector.fit_transform(corpus)\n",
        "  pd.DataFrame(X_train_counts.toarray(),columns=count_vector.get_feature_names_out (),index=['text1','text2'])\n",
        "  vectorizer = TfidfVectorizer()\n",
        "  trsfm=vectorizer.fit_transform(corpus)\n",
        "  pd.DataFrame(trsfm.toarray(),columns=vectorizer.get_feature_names_out (),index=['text1','text2'])\n",
        "  return cosine_similarity(trsfm[0:1], trsfm)"
      ]
    },
    {
      "cell_type": "code",
      "execution_count": 37,
      "metadata": {
        "id": "UP0rAA08ZgSE"
      },
      "outputs": [],
      "source": [
        "# We store the different evaluation metrix for each row (i.e cosine similarity, svd similarity, rouge-l score)\n",
        "headline_similarities = []\n",
        "summary_similarities = []\n",
        "svd_summary_similarities = []\n",
        "svd_headline_similarites = []\n",
        "f=[]\n",
        "p=[]\n",
        "r=[]\n",
        "for i in range(len(df['headlines'])):\n",
        "  ROUGE = Rouge()\n",
        "  headline_similarity = text_similarity(str(df['headlines'][i]),str(df['predicted_headline'][i]))\n",
        "  summary_similarity = text_similarity(str(df['summary'][i]),df['predicted_summary'][i])\n",
        "  svd_summary_similarity = svd_similarity(df['summary'][i],df['predicted_summary'][i])\n",
        "  svd_headline_similarity = svd_similarity(df['headlines'][i],df['predicted_headline'][i])\n",
        "  f.append(ROUGE.get_scores(df['summary'][i],df['predicted_summary'][i])[0]['rouge-l']['f'])\n",
        "  p.append(ROUGE.get_scores(df['summary'][i],df['predicted_summary'][i])[0]['rouge-l']['p'])\n",
        "  r.append(ROUGE.get_scores(df['summary'][i],df['predicted_summary'][i])[0]['rouge-l']['f'])\n",
        "  headline_similarities.append(headline_similarity[0][1])\n",
        "  summary_similarities.append(summary_similarity[0][1])\n",
        "  svd_summary_similarities.append(svd_summary_similarity)\n",
        "  svd_headline_similarites.append(svd_headline_similarity)"
      ]
    },
    {
      "cell_type": "markdown",
      "source": [
        "## Evaluation Metrices\n",
        "* Headline similarity scores tell us that using LSA summarization to predict headline is not a good aprroach.\n",
        "* While summary similarity scores shows that summary generated by LSA is nearly 76% similar to actual summary.\n",
        "* Cosine similarity is not correct way to evaluate the summary of article because it compares on the basis of words.\n",
        "* Rouge-l scores are used to evaluate abstractive summaries, while it is not a good evaluation metric for extractive summaries.\n",
        "* SVD similarity is more aprropriate evaluation metric for comparing the actual and predicted summary because we compare the summaries topic wise i.e how close they are to the same topic"
      ],
      "metadata": {
        "id": "CuTu4gmTL1lI"
      }
    },
    {
      "cell_type": "code",
      "execution_count": 38,
      "metadata": {
        "colab": {
          "base_uri": "https://localhost:8080/"
        },
        "id": "kkxC7V3e9umQ",
        "outputId": "61413d74-49f3-4db8-8ae8-e9f040d3c324"
      },
      "outputs": [
        {
          "output_type": "stream",
          "name": "stdout",
          "text": [
            "Cosine similarity scores\n",
            "Mean Headline similarity score:  0.09686556186365866\n",
            "Median Headline similarity score:  0.09686556186365866\n",
            "Mean summary similarity score:  0.42350040390600674\n",
            "Median summary similarity score:  0.41708856572979713\n"
          ]
        }
      ],
      "source": [
        "print(\"Cosine similarity scores\")\n",
        "print(\"Mean Headline similarity score: \",statistics.mean(headline_similarities))\n",
        "print(\"Median Headline similarity score: \",statistics.mean(headline_similarities))\n",
        "print(\"Mean summary similarity score: \",statistics.mean(summary_similarities))\n",
        "print(\"Median summary similarity score: \",statistics.median(summary_similarities))"
      ]
    },
    {
      "cell_type": "code",
      "execution_count": 39,
      "metadata": {
        "colab": {
          "base_uri": "https://localhost:8080/"
        },
        "id": "ERqo_BHr_Jn5",
        "outputId": "96b8a821-7577-4ee6-8d71-f8d5527a3d6f"
      },
      "outputs": [
        {
          "output_type": "stream",
          "name": "stdout",
          "text": [
            "SVD similarity scores\n",
            "Mean Headline similarity score:  0.4430171632470811\n",
            "Median Headline similarity score:  0.4430171632470811\n",
            "Mean summary similarity score:  0.7682576675801082\n",
            "Median summary similarity score:  0.7772714342835232\n"
          ]
        }
      ],
      "source": [
        "print(\"SVD similarity scores\")\n",
        "print(\"Mean Headline similarity score: \",statistics.mean(svd_headline_similarites))\n",
        "print(\"Median Headline similarity score: \",statistics.mean(svd_headline_similarites))\n",
        "print(\"Mean summary similarity score: \",statistics.mean(svd_summary_similarities))\n",
        "print(\"Median summary similarity score: \",statistics.median(svd_summary_similarities))"
      ]
    },
    {
      "cell_type": "code",
      "execution_count": 40,
      "metadata": {
        "colab": {
          "base_uri": "https://localhost:8080/"
        },
        "id": "3U9YQQY5gmcx",
        "outputId": "2daf3d55-24ff-4c70-be83-80fb68ab8fb0"
      },
      "outputs": [
        {
          "output_type": "stream",
          "name": "stdout",
          "text": [
            "ROUGE scores\n",
            "Mean summary similarity F1score:  0.30833996346310727\n",
            "Medaian summary similarity F1score:  0.29230768767751486\n",
            "Mean summary similarity precision score:  0.3963683216643837\n",
            "Medaian summary similarity precision score:  0.3689931350114416\n",
            "Mean summary similarity recall score:  0.30833996346310727\n",
            "Medaian summary similarity recall score:  0.29230768767751486\n"
          ]
        }
      ],
      "source": [
        "print(\"ROUGE scores\")\n",
        "print(\"Mean summary similarity F1score: \",statistics.mean(f))\n",
        "print(\"Medaian summary similarity F1score: \",statistics.median(f))\n",
        "print(\"Mean summary similarity precision score: \",statistics.mean(p))\n",
        "print(\"Medaian summary similarity precision score: \",statistics.median(p))\n",
        "print(\"Mean summary similarity recall score: \",statistics.mean(r))\n",
        "print(\"Medaian summary similarity recall score: \",statistics.median(r))"
      ]
    }
  ],
  "metadata": {
    "colab": {
      "collapsed_sections": [],
      "name": "news-summarizer.ipynb",
      "provenance": []
    },
    "kernelspec": {
      "display_name": "Python 3",
      "name": "python3"
    },
    "language_info": {
      "name": "python"
    }
  },
  "nbformat": 4,
  "nbformat_minor": 0
}